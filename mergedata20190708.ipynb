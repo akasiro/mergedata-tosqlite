{
 "cells": [
  {
   "cell_type": "code",
   "execution_count": 191,
   "metadata": {},
   "outputs": [],
   "source": [
    "import pandas as pd\n",
    "import numpy as np\n",
    "import os,re,sqlite3, time, datetime"
   ]
  },
  {
   "cell_type": "code",
   "execution_count": 9,
   "metadata": {},
   "outputs": [],
   "source": [
    "pd.set_option('max_columns',1000)\n",
    "pd.set_option('max_row',300)"
   ]
  },
  {
   "cell_type": "code",
   "execution_count": 176,
   "metadata": {},
   "outputs": [
    {
     "data": {
      "text/plain": [
       "['version_df.csv',\n",
       " '.git',\n",
       " 'baseinfo_pub.csv',\n",
       " 'intro',\n",
       " 'baseinfo_pub2.csv',\n",
       " 'baseinfo_df.csv',\n",
       " 'update',\n",
       " 'aso20190710.db',\n",
       " 'mergedata20190708.ipynb',\n",
       " 'version.csv',\n",
       " 'asodata',\n",
       " 'merpkg1zuizhong.csv',\n",
       " '.ipynb_checkpoints',\n",
       " 'publish_df.csv']"
      ]
     },
     "execution_count": 176,
     "metadata": {},
     "output_type": "execute_result"
    }
   ],
   "source": [
    "os.listdir()"
   ]
  },
  {
   "cell_type": "markdown",
   "metadata": {},
   "source": [
    "# 1处理basinfo_pub"
   ]
  },
  {
   "cell_type": "markdown",
   "metadata": {},
   "source": [
    "## 后爬取的数据表"
   ]
  },
  {
   "cell_type": "code",
   "execution_count": 33,
   "metadata": {},
   "outputs": [
    {
     "name": "stdout",
     "output_type": "stream",
     "text": [
      "(1674, 22)\n"
     ]
    }
   ],
   "source": [
    "df1 = pd.read_csv('baseinfo_pub.csv',header = None)\n",
    "df1 = df1.drop([18],axis =1)\n",
    "print(df1.shape)"
   ]
  },
  {
   "cell_type": "code",
   "execution_count": 34,
   "metadata": {},
   "outputs": [
    {
     "data": {
      "text/html": [
       "<div>\n",
       "<style scoped>\n",
       "    .dataframe tbody tr th:only-of-type {\n",
       "        vertical-align: middle;\n",
       "    }\n",
       "\n",
       "    .dataframe tbody tr th {\n",
       "        vertical-align: top;\n",
       "    }\n",
       "\n",
       "    .dataframe thead th {\n",
       "        text-align: right;\n",
       "    }\n",
       "</style>\n",
       "<table border=\"1\" class=\"dataframe\">\n",
       "  <thead>\n",
       "    <tr style=\"text-align: right;\">\n",
       "      <th></th>\n",
       "      <th>0</th>\n",
       "      <th>1</th>\n",
       "      <th>2</th>\n",
       "      <th>3</th>\n",
       "      <th>4</th>\n",
       "      <th>5</th>\n",
       "      <th>6</th>\n",
       "      <th>7</th>\n",
       "      <th>8</th>\n",
       "      <th>9</th>\n",
       "      <th>10</th>\n",
       "      <th>11</th>\n",
       "      <th>12</th>\n",
       "      <th>13</th>\n",
       "      <th>14</th>\n",
       "      <th>15</th>\n",
       "      <th>16</th>\n",
       "      <th>17</th>\n",
       "      <th>19</th>\n",
       "      <th>20</th>\n",
       "      <th>21</th>\n",
       "      <th>22</th>\n",
       "    </tr>\n",
       "  </thead>\n",
       "  <tbody>\n",
       "    <tr>\n",
       "      <th>0</th>\n",
       "      <td>500619796</td>\n",
       "      <td>捕鱼之海底捞</td>\n",
       "      <td>游戏</td>\n",
       "      <td>免费</td>\n",
       "      <td>2017-06-12</td>\n",
       "      <td>Sun Ground Co., Ltd.</td>\n",
       "      <td>Sun Ground Co., Ltd.</td>\n",
       "      <td>游戏、娱乐、动作游戏、街机游戏</td>\n",
       "      <td>2012年03月08日</td>\n",
       "      <td>2017年06月12日</td>\n",
       "      <td>com.sg.iphone.fishx</td>\n",
       "      <td>3.8.1</td>\n",
       "      <td>60.15 MB</td>\n",
       "      <td>是</td>\n",
       "      <td>NaN</td>\n",
       "      <td>需要 iOS 7.0 或更高版本。与 iPhone、iPad 和 iPod touch 兼容。</td>\n",
       "      <td>简体中文, 英语</td>\n",
       "      <td>12+</td>\n",
       "      <td>Sun Ground Co., Ltd.</td>\n",
       "      <td>9</td>\n",
       "      <td>王者捕鱼|魔盗守卫战--蠢萌消除激情塔防最佳组合！|恶魔来了 -- 七龙纪系列|Legend...</td>\n",
       "      <td>1070819686|946824755|514869891|1077664351|5461...</td>\n",
       "    </tr>\n",
       "    <tr>\n",
       "      <th>1</th>\n",
       "      <td>1114765349</td>\n",
       "      <td>神魔圣域—跨国天梯争夺百万悬赏</td>\n",
       "      <td>游戏</td>\n",
       "      <td>免费</td>\n",
       "      <td>2019-05-30</td>\n",
       "      <td>Beijing Kunlun Online Tech Co., Ltd.</td>\n",
       "      <td>昆仑在线</td>\n",
       "      <td>游戏、动作游戏、角色扮演游戏</td>\n",
       "      <td>2016年06月27日</td>\n",
       "      <td>2019年05月30日</td>\n",
       "      <td>com.kunlun.smsycn</td>\n",
       "      <td>1.107.01</td>\n",
       "      <td>613.06 MB</td>\n",
       "      <td>是</td>\n",
       "      <td>NaN</td>\n",
       "      <td>需要 iOS 8.0 或更高版本。与 iPhone、iPad 和 iPod touch 兼容。</td>\n",
       "      <td>英文</td>\n",
       "      <td>9+</td>\n",
       "      <td>昆仑在线</td>\n",
       "      <td>4</td>\n",
       "      <td>无双剑姬-无锁定3D真动作手游|师父有妖气|艾尔战记（艾尔之光官方授权手游）|艾尔战记-艾尔...</td>\n",
       "      <td>920689697|1021522658|1059976078|1315519379</td>\n",
       "    </tr>\n",
       "  </tbody>\n",
       "</table>\n",
       "</div>"
      ],
      "text/plain": [
       "           0                1   2   3           4   \\\n",
       "0   500619796           捕鱼之海底捞  游戏  免费  2017-06-12   \n",
       "1  1114765349  神魔圣域—跨国天梯争夺百万悬赏  游戏  免费  2019-05-30   \n",
       "\n",
       "                                     5                     6   \\\n",
       "0                  Sun Ground Co., Ltd.  Sun Ground Co., Ltd.   \n",
       "1  Beijing Kunlun Online Tech Co., Ltd.                  昆仑在线   \n",
       "\n",
       "                7            8            9                    10        11  \\\n",
       "0  游戏、娱乐、动作游戏、街机游戏  2012年03月08日  2017年06月12日  com.sg.iphone.fishx     3.8.1   \n",
       "1   游戏、动作游戏、角色扮演游戏  2016年06月27日  2019年05月30日    com.kunlun.smsycn  1.107.01   \n",
       "\n",
       "          12 13  14                                               15  \\\n",
       "0   60.15 MB  是 NaN  需要 iOS 7.0 或更高版本。与 iPhone、iPad 和 iPod touch 兼容。   \n",
       "1  613.06 MB  是 NaN  需要 iOS 8.0 或更高版本。与 iPhone、iPad 和 iPod touch 兼容。   \n",
       "\n",
       "         16   17                    19  20  \\\n",
       "0  简体中文, 英语  12+  Sun Ground Co., Ltd.   9   \n",
       "1        英文   9+                  昆仑在线   4   \n",
       "\n",
       "                                                  21  \\\n",
       "0  王者捕鱼|魔盗守卫战--蠢萌消除激情塔防最佳组合！|恶魔来了 -- 七龙纪系列|Legend...   \n",
       "1  无双剑姬-无锁定3D真动作手游|师父有妖气|艾尔战记（艾尔之光官方授权手游）|艾尔战记-艾尔...   \n",
       "\n",
       "                                                  22  \n",
       "0  1070819686|946824755|514869891|1077664351|5461...  \n",
       "1         920689697|1021522658|1059976078|1315519379  "
      ]
     },
     "execution_count": 34,
     "metadata": {},
     "output_type": "execute_result"
    }
   ],
   "source": [
    "df1.head(2)"
   ]
  },
  {
   "cell_type": "markdown",
   "metadata": {},
   "source": [
    "## 先爬取的数据表"
   ]
  },
  {
   "cell_type": "code",
   "execution_count": 37,
   "metadata": {},
   "outputs": [],
   "source": [
    "df2 = pd.read_csv('baseinfo_pub2.csv')\n",
    "df2 = df2.drop(['Unnamed: 0'],axis = 1)"
   ]
  },
  {
   "cell_type": "code",
   "execution_count": 39,
   "metadata": {},
   "outputs": [
    {
     "data": {
      "text/html": [
       "<div>\n",
       "<style scoped>\n",
       "    .dataframe tbody tr th:only-of-type {\n",
       "        vertical-align: middle;\n",
       "    }\n",
       "\n",
       "    .dataframe tbody tr th {\n",
       "        vertical-align: top;\n",
       "    }\n",
       "\n",
       "    .dataframe thead th {\n",
       "        text-align: right;\n",
       "    }\n",
       "</style>\n",
       "<table border=\"1\" class=\"dataframe\">\n",
       "  <thead>\n",
       "    <tr style=\"text-align: right;\">\n",
       "      <th></th>\n",
       "      <th>appleid</th>\n",
       "      <th>appName</th>\n",
       "      <th>appType</th>\n",
       "      <th>price</th>\n",
       "      <th>latestVersion</th>\n",
       "      <th>developerFirm</th>\n",
       "      <th>developer</th>\n",
       "      <th>tags</th>\n",
       "      <th>releaseDate</th>\n",
       "      <th>lastestDate</th>\n",
       "      <th>bundleId</th>\n",
       "      <th>lastestVer</th>\n",
       "      <th>size</th>\n",
       "      <th>payInApp</th>\n",
       "      <th>support</th>\n",
       "      <th>compatibility</th>\n",
       "      <th>lang</th>\n",
       "      <th>contentRank</th>\n",
       "      <th>artistname</th>\n",
       "      <th>samepubappnum</th>\n",
       "      <th>samepubapplist</th>\n",
       "      <th>samepubapplistid</th>\n",
       "    </tr>\n",
       "  </thead>\n",
       "  <tbody>\n",
       "    <tr>\n",
       "      <th>0</th>\n",
       "      <td>1097465856</td>\n",
       "      <td>劲舞团-2周年福利大放送</td>\n",
       "      <td>游戏</td>\n",
       "      <td>免费</td>\n",
       "      <td>2018-10-04</td>\n",
       "      <td>Hangzhou NetEase Leihuo Technology Co., Ltd.</td>\n",
       "      <td>网易移动游戏</td>\n",
       "      <td>游戏、音乐、模拟游戏</td>\n",
       "      <td>2016年09月14日</td>\n",
       "      <td>2018年10月04日</td>\n",
       "      <td>com.netease.jwt</td>\n",
       "      <td>2.4.2</td>\n",
       "      <td>2048 MB</td>\n",
       "      <td>是</td>\n",
       "      <td>NaN</td>\n",
       "      <td>需要 iOS 7.0 或更高版本。与 iPhone、iPad 和 iPod touch 兼容。</td>\n",
       "      <td>简体中文</td>\n",
       "      <td>12+</td>\n",
       "      <td>网易移动游戏</td>\n",
       "      <td>121</td>\n",
       "      <td>F1 Race Stars|Raven:掠夺者(网易)-感受钢铁战斗的激情|一起消消毒|大唐...</td>\n",
       "      <td>941547027|1007987503|838812226|980496876|93229...</td>\n",
       "    </tr>\n",
       "    <tr>\n",
       "      <th>1</th>\n",
       "      <td>1204158467</td>\n",
       "      <td>逃脱13间X密室「已下架」</td>\n",
       "      <td>游戏</td>\n",
       "      <td>免费</td>\n",
       "      <td>2017-02-13</td>\n",
       "      <td>NaN</td>\n",
       "      <td>Shuzhen Song</td>\n",
       "      <td>游戏、角色扮演游戏、文字游戏</td>\n",
       "      <td>2017年02月13日</td>\n",
       "      <td>2017年02月13日</td>\n",
       "      <td>studio.dream.esc13xro</td>\n",
       "      <td>1.0.111</td>\n",
       "      <td>61.96 MB</td>\n",
       "      <td>是</td>\n",
       "      <td>NaN</td>\n",
       "      <td>需要 iOS 6.0 或更高版本。与 iPhone、iPad 和 iPod touch 兼容。</td>\n",
       "      <td>日语, 简体中文, 繁体中文, 英语</td>\n",
       "      <td>9+</td>\n",
       "      <td>Shuzhen Song</td>\n",
       "      <td>261</td>\n",
       "      <td>ARPG 超神传奇|ARPG 超神传奇豪华版|逃脱游戏:有趣的12间密室|逃脱游戏:有趣的1...</td>\n",
       "      <td>1142412438|1142412442|1141203942|1141203951|11...</td>\n",
       "    </tr>\n",
       "  </tbody>\n",
       "</table>\n",
       "</div>"
      ],
      "text/plain": [
       "      appleid        appName appType price latestVersion  \\\n",
       "0  1097465856   劲舞团-2周年福利大放送      游戏    免费    2018-10-04   \n",
       "1  1204158467  逃脱13间X密室「已下架」      游戏    免费    2017-02-13   \n",
       "\n",
       "                                  developerFirm     developer            tags  \\\n",
       "0  Hangzhou NetEase Leihuo Technology Co., Ltd.        网易移动游戏      游戏、音乐、模拟游戏   \n",
       "1                                           NaN  Shuzhen Song  游戏、角色扮演游戏、文字游戏   \n",
       "\n",
       "   releaseDate  lastestDate               bundleId lastestVer      size  \\\n",
       "0  2016年09月14日  2018年10月04日        com.netease.jwt      2.4.2   2048 MB   \n",
       "1  2017年02月13日  2017年02月13日  studio.dream.esc13xro    1.0.111  61.96 MB   \n",
       "\n",
       "  payInApp  support                                    compatibility  \\\n",
       "0        是      NaN  需要 iOS 7.0 或更高版本。与 iPhone、iPad 和 iPod touch 兼容。   \n",
       "1        是      NaN  需要 iOS 6.0 或更高版本。与 iPhone、iPad 和 iPod touch 兼容。   \n",
       "\n",
       "                 lang contentRank    artistname  samepubappnum  \\\n",
       "0                简体中文         12+        网易移动游戏            121   \n",
       "1  日语, 简体中文, 繁体中文, 英语          9+  Shuzhen Song            261   \n",
       "\n",
       "                                      samepubapplist  \\\n",
       "0  F1 Race Stars|Raven:掠夺者(网易)-感受钢铁战斗的激情|一起消消毒|大唐...   \n",
       "1  ARPG 超神传奇|ARPG 超神传奇豪华版|逃脱游戏:有趣的12间密室|逃脱游戏:有趣的1...   \n",
       "\n",
       "                                    samepubapplistid  \n",
       "0  941547027|1007987503|838812226|980496876|93229...  \n",
       "1  1142412438|1142412442|1141203942|1141203951|11...  "
      ]
     },
     "execution_count": 39,
     "metadata": {},
     "output_type": "execute_result"
    }
   ],
   "source": [
    "df2.head(2)"
   ]
  },
  {
   "cell_type": "code",
   "execution_count": 40,
   "metadata": {},
   "outputs": [
    {
     "name": "stdout",
     "output_type": "stream",
     "text": [
      "(12685, 22)\n"
     ]
    }
   ],
   "source": [
    "print(df2.shape)"
   ]
  },
  {
   "cell_type": "code",
   "execution_count": 41,
   "metadata": {},
   "outputs": [
    {
     "name": "stdout",
     "output_type": "stream",
     "text": [
      "22\n",
      "['appleid', 'appName', 'appType', 'price', 'latestVersion', 'developerFirm', 'developer', 'tags', 'releaseDate', 'lastestDate', 'bundleId', 'lastestVer', 'size', 'payInApp', 'support', 'compatibility', 'lang', 'contentRank', 'artistname', 'samepubappnum', 'samepubapplist', 'samepubapplistid']\n"
     ]
    }
   ],
   "source": [
    "columns = df2.columns.tolist()\n",
    "print(len(columns))\n",
    "print(columns)"
   ]
  },
  {
   "cell_type": "markdown",
   "metadata": {},
   "source": [
    "## 为后爬取的数据表添加列名"
   ]
  },
  {
   "cell_type": "code",
   "execution_count": 42,
   "metadata": {},
   "outputs": [],
   "source": [
    "df1.columns = columns"
   ]
  },
  {
   "cell_type": "code",
   "execution_count": 43,
   "metadata": {},
   "outputs": [
    {
     "data": {
      "text/html": [
       "<div>\n",
       "<style scoped>\n",
       "    .dataframe tbody tr th:only-of-type {\n",
       "        vertical-align: middle;\n",
       "    }\n",
       "\n",
       "    .dataframe tbody tr th {\n",
       "        vertical-align: top;\n",
       "    }\n",
       "\n",
       "    .dataframe thead th {\n",
       "        text-align: right;\n",
       "    }\n",
       "</style>\n",
       "<table border=\"1\" class=\"dataframe\">\n",
       "  <thead>\n",
       "    <tr style=\"text-align: right;\">\n",
       "      <th></th>\n",
       "      <th>appleid</th>\n",
       "      <th>appName</th>\n",
       "      <th>appType</th>\n",
       "      <th>price</th>\n",
       "      <th>latestVersion</th>\n",
       "      <th>developerFirm</th>\n",
       "      <th>developer</th>\n",
       "      <th>tags</th>\n",
       "      <th>releaseDate</th>\n",
       "      <th>lastestDate</th>\n",
       "      <th>bundleId</th>\n",
       "      <th>lastestVer</th>\n",
       "      <th>size</th>\n",
       "      <th>payInApp</th>\n",
       "      <th>support</th>\n",
       "      <th>compatibility</th>\n",
       "      <th>lang</th>\n",
       "      <th>contentRank</th>\n",
       "      <th>artistname</th>\n",
       "      <th>samepubappnum</th>\n",
       "      <th>samepubapplist</th>\n",
       "      <th>samepubapplistid</th>\n",
       "    </tr>\n",
       "  </thead>\n",
       "  <tbody>\n",
       "    <tr>\n",
       "      <th>0</th>\n",
       "      <td>500619796</td>\n",
       "      <td>捕鱼之海底捞</td>\n",
       "      <td>游戏</td>\n",
       "      <td>免费</td>\n",
       "      <td>2017-06-12</td>\n",
       "      <td>Sun Ground Co., Ltd.</td>\n",
       "      <td>Sun Ground Co., Ltd.</td>\n",
       "      <td>游戏、娱乐、动作游戏、街机游戏</td>\n",
       "      <td>2012年03月08日</td>\n",
       "      <td>2017年06月12日</td>\n",
       "      <td>com.sg.iphone.fishx</td>\n",
       "      <td>3.8.1</td>\n",
       "      <td>60.15 MB</td>\n",
       "      <td>是</td>\n",
       "      <td>NaN</td>\n",
       "      <td>需要 iOS 7.0 或更高版本。与 iPhone、iPad 和 iPod touch 兼容。</td>\n",
       "      <td>简体中文, 英语</td>\n",
       "      <td>12+</td>\n",
       "      <td>Sun Ground Co., Ltd.</td>\n",
       "      <td>9</td>\n",
       "      <td>王者捕鱼|魔盗守卫战--蠢萌消除激情塔防最佳组合！|恶魔来了 -- 七龙纪系列|Legend...</td>\n",
       "      <td>1070819686|946824755|514869891|1077664351|5461...</td>\n",
       "    </tr>\n",
       "    <tr>\n",
       "      <th>1</th>\n",
       "      <td>1114765349</td>\n",
       "      <td>神魔圣域—跨国天梯争夺百万悬赏</td>\n",
       "      <td>游戏</td>\n",
       "      <td>免费</td>\n",
       "      <td>2019-05-30</td>\n",
       "      <td>Beijing Kunlun Online Tech Co., Ltd.</td>\n",
       "      <td>昆仑在线</td>\n",
       "      <td>游戏、动作游戏、角色扮演游戏</td>\n",
       "      <td>2016年06月27日</td>\n",
       "      <td>2019年05月30日</td>\n",
       "      <td>com.kunlun.smsycn</td>\n",
       "      <td>1.107.01</td>\n",
       "      <td>613.06 MB</td>\n",
       "      <td>是</td>\n",
       "      <td>NaN</td>\n",
       "      <td>需要 iOS 8.0 或更高版本。与 iPhone、iPad 和 iPod touch 兼容。</td>\n",
       "      <td>英文</td>\n",
       "      <td>9+</td>\n",
       "      <td>昆仑在线</td>\n",
       "      <td>4</td>\n",
       "      <td>无双剑姬-无锁定3D真动作手游|师父有妖气|艾尔战记（艾尔之光官方授权手游）|艾尔战记-艾尔...</td>\n",
       "      <td>920689697|1021522658|1059976078|1315519379</td>\n",
       "    </tr>\n",
       "    <tr>\n",
       "      <th>2</th>\n",
       "      <td>486314228</td>\n",
       "      <td>星际战争:异形入侵</td>\n",
       "      <td>游戏</td>\n",
       "      <td>免费</td>\n",
       "      <td>2018-11-21</td>\n",
       "      <td>iFreyr Games</td>\n",
       "      <td>Freyr Games</td>\n",
       "      <td>游戏、动作游戏、街机游戏</td>\n",
       "      <td>2012年01月22日</td>\n",
       "      <td>2018年11月21日</td>\n",
       "      <td>com.ifreyr.starwarfare</td>\n",
       "      <td>2.96</td>\n",
       "      <td>400.67 MB</td>\n",
       "      <td>是</td>\n",
       "      <td>NaN</td>\n",
       "      <td>需要 iOS 8.0 或更高版本。与 iPhone、iPad 和 iPod touch 兼容。</td>\n",
       "      <td>英语</td>\n",
       "      <td>12+</td>\n",
       "      <td>Freyr Games</td>\n",
       "      <td>6</td>\n",
       "      <td>狂奔总动员|斯巴达克斯：战神|僵尸之王|星际战争 2：初次反击|边境|神魔召唤师</td>\n",
       "      <td>547135385|965099010|698009737|888211509|981005...</td>\n",
       "    </tr>\n",
       "    <tr>\n",
       "      <th>3</th>\n",
       "      <td>1114277380</td>\n",
       "      <td>闲来跑得快-正宗湖南扑克牌玩法合集「已下架」</td>\n",
       "      <td>游戏</td>\n",
       "      <td>免费</td>\n",
       "      <td>2017-12-12</td>\n",
       "      <td>Chenrong Lu</td>\n",
       "      <td>Chenrong Lu</td>\n",
       "      <td>游戏、娱乐场游戏、扑克牌游戏</td>\n",
       "      <td>2016年05月28日</td>\n",
       "      <td>2017年12月12日</td>\n",
       "      <td>com.xianlai.mahjonghnpdk</td>\n",
       "      <td>1.0.31</td>\n",
       "      <td>97.46 MB</td>\n",
       "      <td>是</td>\n",
       "      <td>NaN</td>\n",
       "      <td>需要 iOS 7.0 或更高版本。与 iPhone、iPad 和 iPod touch 兼容。</td>\n",
       "      <td>英语</td>\n",
       "      <td>17+</td>\n",
       "      <td>Chenrong Lu</td>\n",
       "      <td>0</td>\n",
       "      <td></td>\n",
       "      <td></td>\n",
       "    </tr>\n",
       "    <tr>\n",
       "      <th>4</th>\n",
       "      <td>1108802570</td>\n",
       "      <td>热血江湖- 双喜临门 百变飞升</td>\n",
       "      <td>游戏</td>\n",
       "      <td>免费</td>\n",
       "      <td>2019-06-14</td>\n",
       "      <td>Beijing Zhong Qing Long Tu Network Technology ...</td>\n",
       "      <td>龙图游戏</td>\n",
       "      <td>游戏、角色扮演游戏、动作游戏</td>\n",
       "      <td>2017年04月09日</td>\n",
       "      <td>2019年06月14日</td>\n",
       "      <td>com.longtugame.rxjh</td>\n",
       "      <td>1.0.98</td>\n",
       "      <td>1148.29 MB</td>\n",
       "      <td>是</td>\n",
       "      <td>NaN</td>\n",
       "      <td>需要 iOS 8.0 或更高版本。与 iPhone、iPad 和 iPod touch 兼容。</td>\n",
       "      <td>简体中文</td>\n",
       "      <td>12+</td>\n",
       "      <td>龙图游戏</td>\n",
       "      <td>7</td>\n",
       "      <td>山口山战记-奥丁王座|媚三国-即时战斗卡牌|小冰冰传奇——命运塔罗牌！|我的文明|小熊爱消除...</td>\n",
       "      <td>1105367722|821382144|793077082|1115108313|1073...</td>\n",
       "    </tr>\n",
       "  </tbody>\n",
       "</table>\n",
       "</div>"
      ],
      "text/plain": [
       "      appleid                 appName appType price latestVersion  \\\n",
       "0   500619796                  捕鱼之海底捞      游戏    免费    2017-06-12   \n",
       "1  1114765349         神魔圣域—跨国天梯争夺百万悬赏      游戏    免费    2019-05-30   \n",
       "2   486314228               星际战争:异形入侵      游戏    免费    2018-11-21   \n",
       "3  1114277380  闲来跑得快-正宗湖南扑克牌玩法合集「已下架」      游戏    免费    2017-12-12   \n",
       "4  1108802570         热血江湖- 双喜临门 百变飞升      游戏    免费    2019-06-14   \n",
       "\n",
       "                                       developerFirm             developer  \\\n",
       "0                               Sun Ground Co., Ltd.  Sun Ground Co., Ltd.   \n",
       "1               Beijing Kunlun Online Tech Co., Ltd.                  昆仑在线   \n",
       "2                                       iFreyr Games           Freyr Games   \n",
       "3                                        Chenrong Lu           Chenrong Lu   \n",
       "4  Beijing Zhong Qing Long Tu Network Technology ...                  龙图游戏   \n",
       "\n",
       "              tags  releaseDate  lastestDate                  bundleId  \\\n",
       "0  游戏、娱乐、动作游戏、街机游戏  2012年03月08日  2017年06月12日       com.sg.iphone.fishx   \n",
       "1   游戏、动作游戏、角色扮演游戏  2016年06月27日  2019年05月30日         com.kunlun.smsycn   \n",
       "2     游戏、动作游戏、街机游戏  2012年01月22日  2018年11月21日    com.ifreyr.starwarfare   \n",
       "3   游戏、娱乐场游戏、扑克牌游戏  2016年05月28日  2017年12月12日  com.xianlai.mahjonghnpdk   \n",
       "4   游戏、角色扮演游戏、动作游戏  2017年04月09日  2019年06月14日       com.longtugame.rxjh   \n",
       "\n",
       "  lastestVer        size payInApp  support  \\\n",
       "0      3.8.1    60.15 MB        是      NaN   \n",
       "1   1.107.01   613.06 MB        是      NaN   \n",
       "2       2.96   400.67 MB        是      NaN   \n",
       "3     1.0.31    97.46 MB        是      NaN   \n",
       "4     1.0.98  1148.29 MB        是      NaN   \n",
       "\n",
       "                                     compatibility      lang contentRank  \\\n",
       "0  需要 iOS 7.0 或更高版本。与 iPhone、iPad 和 iPod touch 兼容。  简体中文, 英语         12+   \n",
       "1  需要 iOS 8.0 或更高版本。与 iPhone、iPad 和 iPod touch 兼容。        英文          9+   \n",
       "2  需要 iOS 8.0 或更高版本。与 iPhone、iPad 和 iPod touch 兼容。        英语         12+   \n",
       "3  需要 iOS 7.0 或更高版本。与 iPhone、iPad 和 iPod touch 兼容。        英语         17+   \n",
       "4  需要 iOS 8.0 或更高版本。与 iPhone、iPad 和 iPod touch 兼容。      简体中文         12+   \n",
       "\n",
       "             artistname  samepubappnum  \\\n",
       "0  Sun Ground Co., Ltd.              9   \n",
       "1                  昆仑在线              4   \n",
       "2           Freyr Games              6   \n",
       "3           Chenrong Lu              0   \n",
       "4                  龙图游戏              7   \n",
       "\n",
       "                                      samepubapplist  \\\n",
       "0  王者捕鱼|魔盗守卫战--蠢萌消除激情塔防最佳组合！|恶魔来了 -- 七龙纪系列|Legend...   \n",
       "1  无双剑姬-无锁定3D真动作手游|师父有妖气|艾尔战记（艾尔之光官方授权手游）|艾尔战记-艾尔...   \n",
       "2           狂奔总动员|斯巴达克斯：战神|僵尸之王|星际战争 2：初次反击|边境|神魔召唤师   \n",
       "3                                                      \n",
       "4  山口山战记-奥丁王座|媚三国-即时战斗卡牌|小冰冰传奇——命运塔罗牌！|我的文明|小熊爱消除...   \n",
       "\n",
       "                                    samepubapplistid  \n",
       "0  1070819686|946824755|514869891|1077664351|5461...  \n",
       "1         920689697|1021522658|1059976078|1315519379  \n",
       "2  547135385|965099010|698009737|888211509|981005...  \n",
       "3                                                     \n",
       "4  1105367722|821382144|793077082|1115108313|1073...  "
      ]
     },
     "execution_count": 43,
     "metadata": {},
     "output_type": "execute_result"
    }
   ],
   "source": [
    "df1.head()"
   ]
  },
  {
   "cell_type": "markdown",
   "metadata": {},
   "source": [
    "## 合并两部分数据"
   ]
  },
  {
   "cell_type": "code",
   "execution_count": 44,
   "metadata": {},
   "outputs": [],
   "source": [
    "dfm = df1.append(df2)"
   ]
  },
  {
   "cell_type": "code",
   "execution_count": 49,
   "metadata": {},
   "outputs": [
    {
     "data": {
      "text/plain": [
       "(14359, 22)"
      ]
     },
     "execution_count": 49,
     "metadata": {},
     "output_type": "execute_result"
    }
   ],
   "source": [
    "dfm.shape"
   ]
  },
  {
   "cell_type": "code",
   "execution_count": 47,
   "metadata": {},
   "outputs": [],
   "source": [
    "dfm1 = dfm.drop_duplicates(subset = ['appleid'])"
   ]
  },
  {
   "cell_type": "code",
   "execution_count": 48,
   "metadata": {},
   "outputs": [
    {
     "data": {
      "text/plain": [
       "(13088, 22)"
      ]
     },
     "execution_count": 48,
     "metadata": {},
     "output_type": "execute_result"
    }
   ],
   "source": [
    "dfm1.shape"
   ]
  },
  {
   "cell_type": "markdown",
   "metadata": {},
   "source": [
    "# 2构造增加文本的函数"
   ]
  },
  {
   "cell_type": "code",
   "execution_count": 70,
   "metadata": {},
   "outputs": [],
   "source": [
    "def read_content(appleid = None,file = None):\n",
    "    if appleid != None:\n",
    "        filename = 'intro{}.txt'.format(appleid)\n",
    "        path = 'intro'\n",
    "    else:\n",
    "        filename = file\n",
    "        path = 'update'\n",
    "    if os.path.exists(os.path.join(path,path,filename)):\n",
    "        try:\n",
    "            with open(os.path.join(path,path,filename),'r') as f:\n",
    "                content = f.read()\n",
    "            content = re.sub(r'\\s','',content)\n",
    "        except:\n",
    "            content = np.nan\n",
    "    elif os.path.exists(os.path.join(path,'{}1'.format(path),filename)):\n",
    "        try:\n",
    "            with open(os.path.join(path,'{}1'.format(path),filename),'r') as f:\n",
    "                content = f.read()\n",
    "            content = re.sub(r'\\s','',content)\n",
    "        except:\n",
    "            content = np.nan\n",
    "    elif os.path.exists(os.path.join(path,'{}2'.format(path),filename)):\n",
    "        try:\n",
    "            with open(os.path.join(path,'{}2'.format(path),filename),'r') as f:\n",
    "                content = f.read()\n",
    "            content = re.sub(r'\\s','',content)\n",
    "        except:\n",
    "            content = np.nan\n",
    "    else:\n",
    "        content = np.nan\n",
    "    return content"
   ]
  },
  {
   "cell_type": "code",
   "execution_count": 101,
   "metadata": {},
   "outputs": [
    {
     "name": "stdout",
     "output_type": "stream",
     "text": [
      "1.bug修正2.游戏体验优化\n"
     ]
    }
   ],
   "source": [
    "print(read_content(file = '500619796v3_8_1.txt'))"
   ]
  },
  {
   "cell_type": "markdown",
   "metadata": {},
   "source": [
    "# 3version表"
   ]
  },
  {
   "cell_type": "markdown",
   "metadata": {},
   "source": [
    "## 后爬取的version"
   ]
  },
  {
   "cell_type": "code",
   "execution_count": 74,
   "metadata": {},
   "outputs": [],
   "source": [
    "dfv1 = pd.read_csv('version.csv',header = None)"
   ]
  },
  {
   "cell_type": "code",
   "execution_count": 82,
   "metadata": {},
   "outputs": [
    {
     "name": "stdout",
     "output_type": "stream",
     "text": [
      "(28365, 6)\n"
     ]
    }
   ],
   "source": [
    "print(dfv1.shape)"
   ]
  },
  {
   "cell_type": "code",
   "execution_count": 75,
   "metadata": {},
   "outputs": [
    {
     "data": {
      "text/html": [
       "<div>\n",
       "<style scoped>\n",
       "    .dataframe tbody tr th:only-of-type {\n",
       "        vertical-align: middle;\n",
       "    }\n",
       "\n",
       "    .dataframe tbody tr th {\n",
       "        vertical-align: top;\n",
       "    }\n",
       "\n",
       "    .dataframe thead th {\n",
       "        text-align: right;\n",
       "    }\n",
       "</style>\n",
       "<table border=\"1\" class=\"dataframe\">\n",
       "  <thead>\n",
       "    <tr style=\"text-align: right;\">\n",
       "      <th></th>\n",
       "      <th>0</th>\n",
       "      <th>1</th>\n",
       "      <th>2</th>\n",
       "      <th>3</th>\n",
       "      <th>4</th>\n",
       "      <th>5</th>\n",
       "    </tr>\n",
       "  </thead>\n",
       "  <tbody>\n",
       "    <tr>\n",
       "      <th>0</th>\n",
       "      <td>500619796</td>\n",
       "      <td>2017年06月12日</td>\n",
       "      <td>1.497197e+09</td>\n",
       "      <td>3.8.1</td>\n",
       "      <td>v3.8.1</td>\n",
       "      <td>500619796v3_8_1.txt</td>\n",
       "    </tr>\n",
       "    <tr>\n",
       "      <th>1</th>\n",
       "      <td>500619796</td>\n",
       "      <td>2017年03月25日</td>\n",
       "      <td>1.490371e+09</td>\n",
       "      <td>3.8.0</td>\n",
       "      <td>v3.8.0</td>\n",
       "      <td>500619796v3_8_0.txt</td>\n",
       "    </tr>\n",
       "  </tbody>\n",
       "</table>\n",
       "</div>"
      ],
      "text/plain": [
       "           0            1             2      3       4                    5\n",
       "0  500619796  2017年06月12日  1.497197e+09  3.8.1  v3.8.1  500619796v3_8_1.txt\n",
       "1  500619796  2017年03月25日  1.490371e+09  3.8.0  v3.8.0  500619796v3_8_0.txt"
      ]
     },
     "execution_count": 75,
     "metadata": {},
     "output_type": "execute_result"
    }
   ],
   "source": [
    "dfv1.head(2)"
   ]
  },
  {
   "cell_type": "markdown",
   "metadata": {},
   "source": [
    "## 先爬的version"
   ]
  },
  {
   "cell_type": "code",
   "execution_count": 80,
   "metadata": {},
   "outputs": [],
   "source": [
    "dfv2 = pd.read_csv('version_df.csv')\n",
    "dfv2 = dfv2.drop(['Unnamed: 0'], axis = 1)"
   ]
  },
  {
   "cell_type": "code",
   "execution_count": 83,
   "metadata": {},
   "outputs": [
    {
     "name": "stdout",
     "output_type": "stream",
     "text": [
      "(100455, 6)\n"
     ]
    }
   ],
   "source": [
    "print(dfv2.shape)"
   ]
  },
  {
   "cell_type": "code",
   "execution_count": 81,
   "metadata": {},
   "outputs": [
    {
     "data": {
      "text/html": [
       "<div>\n",
       "<style scoped>\n",
       "    .dataframe tbody tr th:only-of-type {\n",
       "        vertical-align: middle;\n",
       "    }\n",
       "\n",
       "    .dataframe tbody tr th {\n",
       "        vertical-align: top;\n",
       "    }\n",
       "\n",
       "    .dataframe thead th {\n",
       "        text-align: right;\n",
       "    }\n",
       "</style>\n",
       "<table border=\"1\" class=\"dataframe\">\n",
       "  <thead>\n",
       "    <tr style=\"text-align: right;\">\n",
       "      <th></th>\n",
       "      <th>appleid</th>\n",
       "      <th>verDate</th>\n",
       "      <th>timestamp</th>\n",
       "      <th>versionTitle</th>\n",
       "      <th>versionTitle2</th>\n",
       "      <th>filename</th>\n",
       "    </tr>\n",
       "  </thead>\n",
       "  <tbody>\n",
       "    <tr>\n",
       "      <th>0</th>\n",
       "      <td>1097465856</td>\n",
       "      <td>2018年10月04日</td>\n",
       "      <td>1.538582e+09</td>\n",
       "      <td>2.4.2</td>\n",
       "      <td>v2.4.2</td>\n",
       "      <td>1097465856v2_4_2.txt</td>\n",
       "    </tr>\n",
       "    <tr>\n",
       "      <th>1</th>\n",
       "      <td>1097465856</td>\n",
       "      <td>2018年09月27日</td>\n",
       "      <td>1.537978e+09</td>\n",
       "      <td>2.4.0</td>\n",
       "      <td>v2.4.0</td>\n",
       "      <td>1097465856v2_4_0.txt</td>\n",
       "    </tr>\n",
       "  </tbody>\n",
       "</table>\n",
       "</div>"
      ],
      "text/plain": [
       "      appleid      verDate     timestamp versionTitle versionTitle2  \\\n",
       "0  1097465856  2018年10月04日  1.538582e+09        2.4.2        v2.4.2   \n",
       "1  1097465856  2018年09月27日  1.537978e+09        2.4.0        v2.4.0   \n",
       "\n",
       "               filename  \n",
       "0  1097465856v2_4_2.txt  \n",
       "1  1097465856v2_4_0.txt  "
      ]
     },
     "execution_count": 81,
     "metadata": {},
     "output_type": "execute_result"
    }
   ],
   "source": [
    "dfv2.head(2)"
   ]
  },
  {
   "cell_type": "markdown",
   "metadata": {},
   "source": [
    "## 给后爬的添加columns"
   ]
  },
  {
   "cell_type": "code",
   "execution_count": 86,
   "metadata": {},
   "outputs": [
    {
     "name": "stdout",
     "output_type": "stream",
     "text": [
      "6\n",
      "['appleid', 'verDate', 'timestamp', 'versionTitle', 'versionTitle2', 'filename']\n"
     ]
    }
   ],
   "source": [
    "columnsv = dfv2.columns.tolist()\n",
    "print(len(columnsv))\n",
    "print(columnsv)"
   ]
  },
  {
   "cell_type": "code",
   "execution_count": 87,
   "metadata": {},
   "outputs": [],
   "source": [
    "dfv1.columns = columnsv"
   ]
  },
  {
   "cell_type": "code",
   "execution_count": 88,
   "metadata": {},
   "outputs": [
    {
     "data": {
      "text/plain": [
       "(28365, 6)"
      ]
     },
     "execution_count": 88,
     "metadata": {},
     "output_type": "execute_result"
    }
   ],
   "source": [
    "dfv1.shape"
   ]
  },
  {
   "cell_type": "code",
   "execution_count": 89,
   "metadata": {},
   "outputs": [
    {
     "data": {
      "text/html": [
       "<div>\n",
       "<style scoped>\n",
       "    .dataframe tbody tr th:only-of-type {\n",
       "        vertical-align: middle;\n",
       "    }\n",
       "\n",
       "    .dataframe tbody tr th {\n",
       "        vertical-align: top;\n",
       "    }\n",
       "\n",
       "    .dataframe thead th {\n",
       "        text-align: right;\n",
       "    }\n",
       "</style>\n",
       "<table border=\"1\" class=\"dataframe\">\n",
       "  <thead>\n",
       "    <tr style=\"text-align: right;\">\n",
       "      <th></th>\n",
       "      <th>appleid</th>\n",
       "      <th>verDate</th>\n",
       "      <th>timestamp</th>\n",
       "      <th>versionTitle</th>\n",
       "      <th>versionTitle2</th>\n",
       "      <th>filename</th>\n",
       "    </tr>\n",
       "  </thead>\n",
       "  <tbody>\n",
       "    <tr>\n",
       "      <th>0</th>\n",
       "      <td>500619796</td>\n",
       "      <td>2017年06月12日</td>\n",
       "      <td>1.497197e+09</td>\n",
       "      <td>3.8.1</td>\n",
       "      <td>v3.8.1</td>\n",
       "      <td>500619796v3_8_1.txt</td>\n",
       "    </tr>\n",
       "    <tr>\n",
       "      <th>1</th>\n",
       "      <td>500619796</td>\n",
       "      <td>2017年03月25日</td>\n",
       "      <td>1.490371e+09</td>\n",
       "      <td>3.8.0</td>\n",
       "      <td>v3.8.0</td>\n",
       "      <td>500619796v3_8_0.txt</td>\n",
       "    </tr>\n",
       "  </tbody>\n",
       "</table>\n",
       "</div>"
      ],
      "text/plain": [
       "     appleid      verDate     timestamp versionTitle versionTitle2  \\\n",
       "0  500619796  2017年06月12日  1.497197e+09        3.8.1        v3.8.1   \n",
       "1  500619796  2017年03月25日  1.490371e+09        3.8.0        v3.8.0   \n",
       "\n",
       "              filename  \n",
       "0  500619796v3_8_1.txt  \n",
       "1  500619796v3_8_0.txt  "
      ]
     },
     "execution_count": 89,
     "metadata": {},
     "output_type": "execute_result"
    }
   ],
   "source": [
    "dfv1.head(2)"
   ]
  },
  {
   "cell_type": "markdown",
   "metadata": {},
   "source": [
    "## 合并两部分数据"
   ]
  },
  {
   "cell_type": "code",
   "execution_count": 91,
   "metadata": {},
   "outputs": [],
   "source": [
    "dfvm = dfv1.append(dfv2)"
   ]
  },
  {
   "cell_type": "code",
   "execution_count": 92,
   "metadata": {},
   "outputs": [
    {
     "data": {
      "text/plain": [
       "(128820, 6)"
      ]
     },
     "execution_count": 92,
     "metadata": {},
     "output_type": "execute_result"
    }
   ],
   "source": [
    "dfvm.shape"
   ]
  },
  {
   "cell_type": "code",
   "execution_count": 93,
   "metadata": {},
   "outputs": [],
   "source": [
    "dfvm1 = dfvm.drop_duplicates(subset = ['filename'])"
   ]
  },
  {
   "cell_type": "code",
   "execution_count": 94,
   "metadata": {},
   "outputs": [
    {
     "data": {
      "text/plain": [
       "(106114, 6)"
      ]
     },
     "execution_count": 94,
     "metadata": {},
     "output_type": "execute_result"
    }
   ],
   "source": [
    "dfvm1.shape"
   ]
  },
  {
   "cell_type": "markdown",
   "metadata": {},
   "source": [
    "# 小结\n",
    "目前获得两部分数据\n",
    "\n",
    "**baseinfro_pub** 数据存储在dataframe：dfm1\n",
    "\n",
    "**version** 数据存储在dataframe：dfvm1\n",
    "\n",
    "函数：read_content，两个参数applid，file，只需要输入一个参数就可以\n"
   ]
  },
  {
   "cell_type": "markdown",
   "metadata": {},
   "source": [
    "# 形成文本df\n",
    "\n",
    "1形成一个两列（appleid，introcontent）的dataframe: **df_id_con** 并且整合到dfm1\n",
    "\n",
    "2形成一个两列（filename, versioncontent）的dataframe: **df_ver_con**并且整合到dfvm1"
   ]
  },
  {
   "cell_type": "markdown",
   "metadata": {},
   "source": [
    "## 1 buffer行函数"
   ]
  },
  {
   "cell_type": "code",
   "execution_count": 104,
   "metadata": {},
   "outputs": [],
   "source": [
    "# 新建缓存行\n",
    "def gen_buffer_line(appleid = None, file = None):\n",
    "    if appleid != None:\n",
    "        temp_dict = {'appleid':appleid,\n",
    "                    'introcontent':read_content(appleid = appleid)}\n",
    "    else:\n",
    "        temp_dict = {'filename':file,\n",
    "                    'vercontent':read_content(file = file)}\n",
    "    temp_df = pd.DataFrame(data = temp_dict, index = [0])\n",
    "    return temp_df                    "
   ]
  },
  {
   "cell_type": "code",
   "execution_count": 105,
   "metadata": {},
   "outputs": [
    {
     "data": {
      "text/html": [
       "<div>\n",
       "<style scoped>\n",
       "    .dataframe tbody tr th:only-of-type {\n",
       "        vertical-align: middle;\n",
       "    }\n",
       "\n",
       "    .dataframe tbody tr th {\n",
       "        vertical-align: top;\n",
       "    }\n",
       "\n",
       "    .dataframe thead th {\n",
       "        text-align: right;\n",
       "    }\n",
       "</style>\n",
       "<table border=\"1\" class=\"dataframe\">\n",
       "  <thead>\n",
       "    <tr style=\"text-align: right;\">\n",
       "      <th></th>\n",
       "      <th>appleid</th>\n",
       "      <th>introcontent</th>\n",
       "    </tr>\n",
       "  </thead>\n",
       "  <tbody>\n",
       "    <tr>\n",
       "      <th>0</th>\n",
       "      <td>500619796</td>\n",
       "      <td>与美人鱼畅游华丽逼真的海底世界!可爱萌宠个个身怀绝技!让你欲罢不能的捕鱼游戏!唯一不带广告的...</td>\n",
       "    </tr>\n",
       "  </tbody>\n",
       "</table>\n",
       "</div>"
      ],
      "text/plain": [
       "     appleid                                       introcontent\n",
       "0  500619796  与美人鱼畅游华丽逼真的海底世界!可爱萌宠个个身怀绝技!让你欲罢不能的捕鱼游戏!唯一不带广告的..."
      ]
     },
     "execution_count": 105,
     "metadata": {},
     "output_type": "execute_result"
    }
   ],
   "source": [
    "# test1\n",
    "gen_buffer_line(appleid = 500619796)"
   ]
  },
  {
   "cell_type": "code",
   "execution_count": 115,
   "metadata": {},
   "outputs": [
    {
     "data": {
      "text/html": [
       "<div>\n",
       "<style scoped>\n",
       "    .dataframe tbody tr th:only-of-type {\n",
       "        vertical-align: middle;\n",
       "    }\n",
       "\n",
       "    .dataframe tbody tr th {\n",
       "        vertical-align: top;\n",
       "    }\n",
       "\n",
       "    .dataframe thead th {\n",
       "        text-align: right;\n",
       "    }\n",
       "</style>\n",
       "<table border=\"1\" class=\"dataframe\">\n",
       "  <thead>\n",
       "    <tr style=\"text-align: right;\">\n",
       "      <th></th>\n",
       "      <th>filename</th>\n",
       "      <th>vercontent</th>\n",
       "    </tr>\n",
       "  </thead>\n",
       "  <tbody>\n",
       "    <tr>\n",
       "      <th>0</th>\n",
       "      <td>500619796v3_8_1.txt</td>\n",
       "      <td>1.bug修正2.游戏体验优化</td>\n",
       "    </tr>\n",
       "  </tbody>\n",
       "</table>\n",
       "</div>"
      ],
      "text/plain": [
       "              filename       vercontent\n",
       "0  500619796v3_8_1.txt  1.bug修正2.游戏体验优化"
      ]
     },
     "execution_count": 115,
     "metadata": {},
     "output_type": "execute_result"
    }
   ],
   "source": [
    "# test2\n",
    "gen_buffer_line(file = '500619796v3_8_1.txt')"
   ]
  },
  {
   "cell_type": "markdown",
   "metadata": {},
   "source": [
    "## 2 构造**df_id_con**"
   ]
  },
  {
   "cell_type": "code",
   "execution_count": 116,
   "metadata": {},
   "outputs": [],
   "source": [
    "df_id_con = pd.DataFrame(columns = ['appleid','introcontent'])\n",
    "for r in dfm1.itertuples():\n",
    "    appleid = getattr(r,'appleid')\n",
    "    df_id_con = df_id_con.append(gen_buffer_line(appleid = appleid),ignore_index = True)"
   ]
  },
  {
   "cell_type": "code",
   "execution_count": 117,
   "metadata": {},
   "outputs": [
    {
     "data": {
      "text/plain": [
       "(13088, 2)"
      ]
     },
     "execution_count": 117,
     "metadata": {},
     "output_type": "execute_result"
    }
   ],
   "source": [
    "df_id_con.shape"
   ]
  },
  {
   "cell_type": "code",
   "execution_count": 118,
   "metadata": {},
   "outputs": [
    {
     "data": {
      "text/html": [
       "<div>\n",
       "<style scoped>\n",
       "    .dataframe tbody tr th:only-of-type {\n",
       "        vertical-align: middle;\n",
       "    }\n",
       "\n",
       "    .dataframe tbody tr th {\n",
       "        vertical-align: top;\n",
       "    }\n",
       "\n",
       "    .dataframe thead th {\n",
       "        text-align: right;\n",
       "    }\n",
       "</style>\n",
       "<table border=\"1\" class=\"dataframe\">\n",
       "  <thead>\n",
       "    <tr style=\"text-align: right;\">\n",
       "      <th></th>\n",
       "      <th>appleid</th>\n",
       "      <th>introcontent</th>\n",
       "    </tr>\n",
       "  </thead>\n",
       "  <tbody>\n",
       "    <tr>\n",
       "      <th>0</th>\n",
       "      <td>500619796</td>\n",
       "      <td>与美人鱼畅游华丽逼真的海底世界!可爱萌宠个个身怀绝技!让你欲罢不能的捕鱼游戏!唯一不带广告的...</td>\n",
       "    </tr>\n",
       "    <tr>\n",
       "      <th>1</th>\n",
       "      <td>1114765349</td>\n",
       "      <td>最强5人天梯战队赛上线，只要达到120级并凑齐5名小伙伴（最多5名）就可以参加“最强战队”比...</td>\n",
       "    </tr>\n",
       "    <tr>\n",
       "      <th>2</th>\n",
       "      <td>486314228</td>\n",
       "      <td>v2.93更新内容-新增两把酷炫武器-新增一套霸气盔甲-新增一个实用背包-修复bug促销期间...</td>\n",
       "    </tr>\n",
       "    <tr>\n",
       "      <th>3</th>\n",
       "      <td>1114277380</td>\n",
       "      <td>闲来跑得快，正宗本地玩法，随时随地，轻松开局！【游戏介绍】1、最正宗：深入当地调研，实时调整...</td>\n",
       "    </tr>\n",
       "    <tr>\n",
       "      <th>4</th>\n",
       "      <td>1108802570</td>\n",
       "      <td>热血江湖手游是由官方唯一正版授权，龙图游戏发行青春武侠MMORPG手游。清新明亮的游戏场景，...</td>\n",
       "    </tr>\n",
       "  </tbody>\n",
       "</table>\n",
       "</div>"
      ],
      "text/plain": [
       "      appleid                                       introcontent\n",
       "0   500619796  与美人鱼畅游华丽逼真的海底世界!可爱萌宠个个身怀绝技!让你欲罢不能的捕鱼游戏!唯一不带广告的...\n",
       "1  1114765349  最强5人天梯战队赛上线，只要达到120级并凑齐5名小伙伴（最多5名）就可以参加“最强战队”比...\n",
       "2   486314228  v2.93更新内容-新增两把酷炫武器-新增一套霸气盔甲-新增一个实用背包-修复bug促销期间...\n",
       "3  1114277380  闲来跑得快，正宗本地玩法，随时随地，轻松开局！【游戏介绍】1、最正宗：深入当地调研，实时调整...\n",
       "4  1108802570  热血江湖手游是由官方唯一正版授权，龙图游戏发行青春武侠MMORPG手游。清新明亮的游戏场景，..."
      ]
     },
     "execution_count": 118,
     "metadata": {},
     "output_type": "execute_result"
    }
   ],
   "source": [
    "df_id_con.head()"
   ]
  },
  {
   "cell_type": "markdown",
   "metadata": {},
   "source": [
    "## 3 构造df_ver_con"
   ]
  },
  {
   "cell_type": "code",
   "execution_count": 119,
   "metadata": {},
   "outputs": [],
   "source": [
    "df_ver_con = pd.DataFrame(columns = ['filename','vercontent'])\n",
    "for r in dfvm1.itertuples():\n",
    "    file = getattr(r,'filename')\n",
    "    df_ver_con = df_ver_con.append(gen_buffer_line(file = file),ignore_index = True)"
   ]
  },
  {
   "cell_type": "code",
   "execution_count": 120,
   "metadata": {},
   "outputs": [
    {
     "data": {
      "text/plain": [
       "(106114, 2)"
      ]
     },
     "execution_count": 120,
     "metadata": {},
     "output_type": "execute_result"
    }
   ],
   "source": [
    "df_ver_con.shape"
   ]
  },
  {
   "cell_type": "code",
   "execution_count": 121,
   "metadata": {},
   "outputs": [
    {
     "data": {
      "text/html": [
       "<div>\n",
       "<style scoped>\n",
       "    .dataframe tbody tr th:only-of-type {\n",
       "        vertical-align: middle;\n",
       "    }\n",
       "\n",
       "    .dataframe tbody tr th {\n",
       "        vertical-align: top;\n",
       "    }\n",
       "\n",
       "    .dataframe thead th {\n",
       "        text-align: right;\n",
       "    }\n",
       "</style>\n",
       "<table border=\"1\" class=\"dataframe\">\n",
       "  <thead>\n",
       "    <tr style=\"text-align: right;\">\n",
       "      <th></th>\n",
       "      <th>filename</th>\n",
       "      <th>vercontent</th>\n",
       "    </tr>\n",
       "  </thead>\n",
       "  <tbody>\n",
       "    <tr>\n",
       "      <th>0</th>\n",
       "      <td>500619796v3_8_1.txt</td>\n",
       "      <td>1.bug修正2.游戏体验优化</td>\n",
       "    </tr>\n",
       "    <tr>\n",
       "      <th>1</th>\n",
       "      <td>500619796v3_8_0.txt</td>\n",
       "      <td>1.bug修正2.游戏体验优化</td>\n",
       "    </tr>\n",
       "    <tr>\n",
       "      <th>2</th>\n",
       "      <td>500619796v3_7_7.txt</td>\n",
       "      <td>庆新版本更新，三重好礼送不停！第一重：任务奖励翻倍送！所有任务的奖励直接翻倍！任务重置时间缩...</td>\n",
       "    </tr>\n",
       "    <tr>\n",
       "      <th>3</th>\n",
       "      <td>500619796vV3_7_6.txt</td>\n",
       "      <td>修复游戏部分闪退bug</td>\n",
       "    </tr>\n",
       "    <tr>\n",
       "      <th>4</th>\n",
       "      <td>500619796v3_7_5.txt</td>\n",
       "      <td>修复成就系统bug</td>\n",
       "    </tr>\n",
       "  </tbody>\n",
       "</table>\n",
       "</div>"
      ],
      "text/plain": [
       "               filename                                         vercontent\n",
       "0   500619796v3_8_1.txt                                    1.bug修正2.游戏体验优化\n",
       "1   500619796v3_8_0.txt                                    1.bug修正2.游戏体验优化\n",
       "2   500619796v3_7_7.txt  庆新版本更新，三重好礼送不停！第一重：任务奖励翻倍送！所有任务的奖励直接翻倍！任务重置时间缩...\n",
       "3  500619796vV3_7_6.txt                                        修复游戏部分闪退bug\n",
       "4   500619796v3_7_5.txt                                          修复成就系统bug"
      ]
     },
     "execution_count": 121,
     "metadata": {},
     "output_type": "execute_result"
    }
   ],
   "source": [
    "df_ver_con.head()"
   ]
  },
  {
   "cell_type": "markdown",
   "metadata": {},
   "source": [
    "## 4 将df_id_con和df_ver_con整合到dfm1和dfvm1"
   ]
  },
  {
   "cell_type": "code",
   "execution_count": 123,
   "metadata": {},
   "outputs": [],
   "source": [
    "dfm2 = dfm1.merge(df_id_con,how = 'left', on = 'appleid')"
   ]
  },
  {
   "cell_type": "code",
   "execution_count": 126,
   "metadata": {},
   "outputs": [
    {
     "name": "stdout",
     "output_type": "stream",
     "text": [
      "(13088, 22)\n",
      "(13088, 2)\n",
      "(13088, 23)\n"
     ]
    }
   ],
   "source": [
    "print(dfm1.shape)\n",
    "print(df_id_con.shape)\n",
    "print(dfm2.shape)"
   ]
  },
  {
   "cell_type": "code",
   "execution_count": 127,
   "metadata": {},
   "outputs": [],
   "source": [
    "dfvm2 = dfvm1.merge(df_ver_con, how = 'left', on = 'filename')"
   ]
  },
  {
   "cell_type": "code",
   "execution_count": 129,
   "metadata": {},
   "outputs": [
    {
     "name": "stdout",
     "output_type": "stream",
     "text": [
      "(106114, 6)\n",
      "(106114, 2)\n",
      "(106114, 7)\n"
     ]
    }
   ],
   "source": [
    "print(dfvm1.shape)\n",
    "print(df_ver_con.shape)\n",
    "print(dfvm2.shape)"
   ]
  },
  {
   "cell_type": "markdown",
   "metadata": {},
   "source": [
    "## 小结\n",
    "所有数据都存储在两个dataframe中一个为dfm2 和dfvm2"
   ]
  },
  {
   "cell_type": "markdown",
   "metadata": {},
   "source": [
    "# 补充安卓包名到dfm2表，dfm2表中日期转化为时间戳"
   ]
  },
  {
   "cell_type": "code",
   "execution_count": 201,
   "metadata": {},
   "outputs": [],
   "source": [
    "mergedata = pd.read_csv('merpkg1zuizhong.csv',encoding = 'gbk')"
   ]
  },
  {
   "cell_type": "code",
   "execution_count": 202,
   "metadata": {},
   "outputs": [
    {
     "data": {
      "text/html": [
       "<div>\n",
       "<style scoped>\n",
       "    .dataframe tbody tr th:only-of-type {\n",
       "        vertical-align: middle;\n",
       "    }\n",
       "\n",
       "    .dataframe tbody tr th {\n",
       "        vertical-align: top;\n",
       "    }\n",
       "\n",
       "    .dataframe thead th {\n",
       "        text-align: right;\n",
       "    }\n",
       "</style>\n",
       "<table border=\"1\" class=\"dataframe\">\n",
       "  <thead>\n",
       "    <tr style=\"text-align: right;\">\n",
       "      <th></th>\n",
       "      <th>Unnamed: 0</th>\n",
       "      <th>type_code</th>\n",
       "      <th>pkgName</th>\n",
       "      <th>type</th>\n",
       "      <th>appleid</th>\n",
       "      <th>qimaiId</th>\n",
       "      <th>bundleId</th>\n",
       "      <th>appName</th>\n",
       "    </tr>\n",
       "  </thead>\n",
       "  <tbody>\n",
       "    <tr>\n",
       "      <th>0</th>\n",
       "      <td>1777</td>\n",
       "      <td>T201300</td>\n",
       "      <td>a5game.cn.Feedingfish</td>\n",
       "      <td>休闲游戏</td>\n",
       "      <td>1038551692</td>\n",
       "      <td>NaN</td>\n",
       "      <td>NaN</td>\n",
       "      <td>NaN</td>\n",
       "    </tr>\n",
       "    <tr>\n",
       "      <th>1</th>\n",
       "      <td>7050</td>\n",
       "      <td>T200500</td>\n",
       "      <td>a5game.leidian2_dx_5a</td>\n",
       "      <td>飞行游戏</td>\n",
       "      <td>997429574</td>\n",
       "      <td>NaN</td>\n",
       "      <td>NaN</td>\n",
       "      <td>NaN</td>\n",
       "    </tr>\n",
       "    <tr>\n",
       "      <th>2</th>\n",
       "      <td>7642</td>\n",
       "      <td>T200400</td>\n",
       "      <td>Adrenaline.Crew</td>\n",
       "      <td>赛车游戏</td>\n",
       "      <td>NaN</td>\n",
       "      <td>NaN</td>\n",
       "      <td>NaN</td>\n",
       "      <td>NaN</td>\n",
       "    </tr>\n",
       "    <tr>\n",
       "      <th>3</th>\n",
       "      <td>41</td>\n",
       "      <td>T201900</td>\n",
       "      <td>age.of.civilizations.asia.jakowski</td>\n",
       "      <td>策略游戏</td>\n",
       "      <td>NaN</td>\n",
       "      <td>NaN</td>\n",
       "      <td>NaN</td>\n",
       "      <td>NaN</td>\n",
       "    </tr>\n",
       "    <tr>\n",
       "      <th>4</th>\n",
       "      <td>5675</td>\n",
       "      <td>T200100</td>\n",
       "      <td>air.AndBadao</td>\n",
       "      <td>动作游戏</td>\n",
       "      <td>NaN</td>\n",
       "      <td>NaN</td>\n",
       "      <td>火柴人部落</td>\n",
       "      <td>NaN</td>\n",
       "    </tr>\n",
       "  </tbody>\n",
       "</table>\n",
       "</div>"
      ],
      "text/plain": [
       "   Unnamed: 0 type_code                             pkgName  type     appleid  \\\n",
       "0        1777   T201300               a5game.cn.Feedingfish  休闲游戏  1038551692   \n",
       "1        7050   T200500               a5game.leidian2_dx_5a  飞行游戏   997429574   \n",
       "2        7642   T200400                     Adrenaline.Crew  赛车游戏         NaN   \n",
       "3          41   T201900  age.of.civilizations.asia.jakowski  策略游戏         NaN   \n",
       "4        5675   T200100                        air.AndBadao  动作游戏         NaN   \n",
       "\n",
       "  qimaiId bundleId appName  \n",
       "0     NaN      NaN     NaN  \n",
       "1     NaN      NaN     NaN  \n",
       "2     NaN      NaN     NaN  \n",
       "3     NaN      NaN     NaN  \n",
       "4     NaN    火柴人部落     NaN  "
      ]
     },
     "execution_count": 202,
     "metadata": {},
     "output_type": "execute_result"
    }
   ],
   "source": [
    "mergedata.head()"
   ]
  },
  {
   "cell_type": "code",
   "execution_count": 203,
   "metadata": {},
   "outputs": [],
   "source": [
    "md1 = mergedata.dropna(subset = ['appleid'])\n",
    "md1 = md1.drop(['appName','bundleId','Unnamed: 0'], axis = 1)"
   ]
  },
  {
   "cell_type": "code",
   "execution_count": 204,
   "metadata": {},
   "outputs": [
    {
     "name": "stdout",
     "output_type": "stream",
     "text": [
      "(8031, 8)\n",
      "(4910, 5)\n"
     ]
    }
   ],
   "source": [
    "print(mergedata.shape)\n",
    "print(md1.shape)"
   ]
  },
  {
   "cell_type": "code",
   "execution_count": 205,
   "metadata": {},
   "outputs": [
    {
     "data": {
      "text/html": [
       "<div>\n",
       "<style scoped>\n",
       "    .dataframe tbody tr th:only-of-type {\n",
       "        vertical-align: middle;\n",
       "    }\n",
       "\n",
       "    .dataframe tbody tr th {\n",
       "        vertical-align: top;\n",
       "    }\n",
       "\n",
       "    .dataframe thead th {\n",
       "        text-align: right;\n",
       "    }\n",
       "</style>\n",
       "<table border=\"1\" class=\"dataframe\">\n",
       "  <thead>\n",
       "    <tr style=\"text-align: right;\">\n",
       "      <th></th>\n",
       "      <th>type_code</th>\n",
       "      <th>pkgName</th>\n",
       "      <th>type</th>\n",
       "      <th>appleid</th>\n",
       "      <th>qimaiId</th>\n",
       "    </tr>\n",
       "  </thead>\n",
       "  <tbody>\n",
       "    <tr>\n",
       "      <th>0</th>\n",
       "      <td>T201300</td>\n",
       "      <td>a5game.cn.Feedingfish</td>\n",
       "      <td>休闲游戏</td>\n",
       "      <td>1038551692</td>\n",
       "      <td>NaN</td>\n",
       "    </tr>\n",
       "    <tr>\n",
       "      <th>1</th>\n",
       "      <td>T200500</td>\n",
       "      <td>a5game.leidian2_dx_5a</td>\n",
       "      <td>飞行游戏</td>\n",
       "      <td>997429574</td>\n",
       "      <td>NaN</td>\n",
       "    </tr>\n",
       "    <tr>\n",
       "      <th>5</th>\n",
       "      <td>T201300</td>\n",
       "      <td>air.au.com.metro.DumbWaysToDie</td>\n",
       "      <td>休闲游戏</td>\n",
       "      <td>639930688</td>\n",
       "      <td>NaN</td>\n",
       "    </tr>\n",
       "    <tr>\n",
       "      <th>6</th>\n",
       "      <td>T201300</td>\n",
       "      <td>air.au.com.metro.DumbWaysToDie2</td>\n",
       "      <td>休闲游戏</td>\n",
       "      <td>929346489</td>\n",
       "      <td>NaN</td>\n",
       "    </tr>\n",
       "    <tr>\n",
       "      <th>8</th>\n",
       "      <td>T201700</td>\n",
       "      <td>air.com.a77375.klhxtaomii</td>\n",
       "      <td>模拟经营</td>\n",
       "      <td>1230337086</td>\n",
       "      <td>NaN</td>\n",
       "    </tr>\n",
       "  </tbody>\n",
       "</table>\n",
       "</div>"
      ],
      "text/plain": [
       "  type_code                          pkgName  type     appleid qimaiId\n",
       "0   T201300            a5game.cn.Feedingfish  休闲游戏  1038551692     NaN\n",
       "1   T200500            a5game.leidian2_dx_5a  飞行游戏   997429574     NaN\n",
       "5   T201300   air.au.com.metro.DumbWaysToDie  休闲游戏   639930688     NaN\n",
       "6   T201300  air.au.com.metro.DumbWaysToDie2  休闲游戏   929346489     NaN\n",
       "8   T201700        air.com.a77375.klhxtaomii  模拟经营  1230337086     NaN"
      ]
     },
     "execution_count": 205,
     "metadata": {},
     "output_type": "execute_result"
    }
   ],
   "source": [
    "md1.head()"
   ]
  },
  {
   "cell_type": "code",
   "execution_count": 206,
   "metadata": {},
   "outputs": [],
   "source": [
    "dfm3 = dfm2.merge(md1,on = 'appleid',how = 'left')"
   ]
  },
  {
   "cell_type": "code",
   "execution_count": 207,
   "metadata": {},
   "outputs": [
    {
     "name": "stdout",
     "output_type": "stream",
     "text": [
      "(13088, 23)\n",
      "(13088, 27)\n"
     ]
    }
   ],
   "source": [
    "print(dfm2.shape)\n",
    "print(dfm3.shape)"
   ]
  },
  {
   "cell_type": "code",
   "execution_count": 208,
   "metadata": {},
   "outputs": [
    {
     "data": {
      "text/plain": [
       "Index(['appleid', 'appName', 'appType', 'price', 'latestVersion',\n",
       "       'developerFirm', 'developer', 'tags', 'releaseDate', 'lastestDate',\n",
       "       'bundleId', 'lastestVer', 'size', 'payInApp', 'support',\n",
       "       'compatibility', 'lang', 'contentRank', 'artistname', 'samepubappnum',\n",
       "       'samepubapplist', 'samepubapplistid', 'introcontent', 'type_code',\n",
       "       'pkgName', 'type', 'qimaiId'],\n",
       "      dtype='object')"
      ]
     },
     "execution_count": 208,
     "metadata": {},
     "output_type": "execute_result"
    }
   ],
   "source": [
    "dfm3.columns"
   ]
  },
  {
   "cell_type": "markdown",
   "metadata": {},
   "source": [
    "## 测试用"
   ]
  },
  {
   "cell_type": "code",
   "execution_count": 189,
   "metadata": {},
   "outputs": [],
   "source": [
    "test = dfm3[['appleid','releaseDate']]"
   ]
  },
  {
   "cell_type": "code",
   "execution_count": 190,
   "metadata": {},
   "outputs": [
    {
     "data": {
      "text/html": [
       "<div>\n",
       "<style scoped>\n",
       "    .dataframe tbody tr th:only-of-type {\n",
       "        vertical-align: middle;\n",
       "    }\n",
       "\n",
       "    .dataframe tbody tr th {\n",
       "        vertical-align: top;\n",
       "    }\n",
       "\n",
       "    .dataframe thead th {\n",
       "        text-align: right;\n",
       "    }\n",
       "</style>\n",
       "<table border=\"1\" class=\"dataframe\">\n",
       "  <thead>\n",
       "    <tr style=\"text-align: right;\">\n",
       "      <th></th>\n",
       "      <th>appleid</th>\n",
       "      <th>releaseDate</th>\n",
       "    </tr>\n",
       "  </thead>\n",
       "  <tbody>\n",
       "    <tr>\n",
       "      <th>0</th>\n",
       "      <td>500619796</td>\n",
       "      <td>2012年03月08日</td>\n",
       "    </tr>\n",
       "    <tr>\n",
       "      <th>1</th>\n",
       "      <td>1114765349</td>\n",
       "      <td>2016年06月27日</td>\n",
       "    </tr>\n",
       "    <tr>\n",
       "      <th>2</th>\n",
       "      <td>486314228</td>\n",
       "      <td>2012年01月22日</td>\n",
       "    </tr>\n",
       "    <tr>\n",
       "      <th>3</th>\n",
       "      <td>1114277380</td>\n",
       "      <td>2016年05月28日</td>\n",
       "    </tr>\n",
       "    <tr>\n",
       "      <th>4</th>\n",
       "      <td>1108802570</td>\n",
       "      <td>2017年04月09日</td>\n",
       "    </tr>\n",
       "  </tbody>\n",
       "</table>\n",
       "</div>"
      ],
      "text/plain": [
       "      appleid  releaseDate\n",
       "0   500619796  2012年03月08日\n",
       "1  1114765349  2016年06月27日\n",
       "2   486314228  2012年01月22日\n",
       "3  1114277380  2016年05月28日\n",
       "4  1108802570  2017年04月09日"
      ]
     },
     "execution_count": 190,
     "metadata": {},
     "output_type": "execute_result"
    }
   ],
   "source": [
    "test.head()"
   ]
  },
  {
   "cell_type": "code",
   "execution_count": 192,
   "metadata": {},
   "outputs": [],
   "source": [
    "def changedate(datestring):\n",
    "    date_fomat = time.strptime(datestring, '%Y年%m月%d日')\n",
    "    timestamp = int(time.mktime(date_fomat))\n",
    "    return timestamp\n",
    "    "
   ]
  },
  {
   "cell_type": "code",
   "execution_count": 193,
   "metadata": {},
   "outputs": [
    {
     "data": {
      "text/plain": [
       "1331136000"
      ]
     },
     "execution_count": 193,
     "metadata": {},
     "output_type": "execute_result"
    }
   ],
   "source": [
    "# test\n",
    "changedate('2012年03月08日')"
   ]
  },
  {
   "cell_type": "code",
   "execution_count": 197,
   "metadata": {},
   "outputs": [
    {
     "name": "stderr",
     "output_type": "stream",
     "text": [
      "/home/ubuntu/.local/lib/python3.5/site-packages/ipykernel_launcher.py:1: SettingWithCopyWarning: \n",
      "A value is trying to be set on a copy of a slice from a DataFrame.\n",
      "Try using .loc[row_indexer,col_indexer] = value instead\n",
      "\n",
      "See the caveats in the documentation: http://pandas.pydata.org/pandas-docs/stable/indexing.html#indexing-view-versus-copy\n",
      "  \"\"\"Entry point for launching an IPython kernel.\n"
     ]
    }
   ],
   "source": [
    "test['timestamp'] = test['releaseDate'].apply(changedate)"
   ]
  },
  {
   "cell_type": "code",
   "execution_count": 195,
   "metadata": {},
   "outputs": [
    {
     "data": {
      "text/html": [
       "<div>\n",
       "<style scoped>\n",
       "    .dataframe tbody tr th:only-of-type {\n",
       "        vertical-align: middle;\n",
       "    }\n",
       "\n",
       "    .dataframe tbody tr th {\n",
       "        vertical-align: top;\n",
       "    }\n",
       "\n",
       "    .dataframe thead th {\n",
       "        text-align: right;\n",
       "    }\n",
       "</style>\n",
       "<table border=\"1\" class=\"dataframe\">\n",
       "  <thead>\n",
       "    <tr style=\"text-align: right;\">\n",
       "      <th></th>\n",
       "      <th>appleid</th>\n",
       "      <th>releaseDate</th>\n",
       "      <th>timestamp</th>\n",
       "    </tr>\n",
       "  </thead>\n",
       "  <tbody>\n",
       "    <tr>\n",
       "      <th>0</th>\n",
       "      <td>500619796</td>\n",
       "      <td>2012年03月08日</td>\n",
       "      <td>1331136000</td>\n",
       "    </tr>\n",
       "    <tr>\n",
       "      <th>1</th>\n",
       "      <td>1114765349</td>\n",
       "      <td>2016年06月27日</td>\n",
       "      <td>1466956800</td>\n",
       "    </tr>\n",
       "    <tr>\n",
       "      <th>2</th>\n",
       "      <td>486314228</td>\n",
       "      <td>2012年01月22日</td>\n",
       "      <td>1327161600</td>\n",
       "    </tr>\n",
       "    <tr>\n",
       "      <th>3</th>\n",
       "      <td>1114277380</td>\n",
       "      <td>2016年05月28日</td>\n",
       "      <td>1464364800</td>\n",
       "    </tr>\n",
       "    <tr>\n",
       "      <th>4</th>\n",
       "      <td>1108802570</td>\n",
       "      <td>2017年04月09日</td>\n",
       "      <td>1491667200</td>\n",
       "    </tr>\n",
       "  </tbody>\n",
       "</table>\n",
       "</div>"
      ],
      "text/plain": [
       "      appleid  releaseDate   timestamp\n",
       "0   500619796  2012年03月08日  1331136000\n",
       "1  1114765349  2016年06月27日  1466956800\n",
       "2   486314228  2012年01月22日  1327161600\n",
       "3  1114277380  2016年05月28日  1464364800\n",
       "4  1108802570  2017年04月09日  1491667200"
      ]
     },
     "execution_count": 195,
     "metadata": {},
     "output_type": "execute_result"
    }
   ],
   "source": [
    "test.head()"
   ]
  },
  {
   "cell_type": "code",
   "execution_count": 210,
   "metadata": {},
   "outputs": [],
   "source": [
    "dfm4 = dfm3.copy()\n",
    "dfm4['rdtimestamp'] = dfm4['releaseDate'].apply(changedate)"
   ]
  },
  {
   "cell_type": "code",
   "execution_count": 211,
   "metadata": {},
   "outputs": [
    {
     "name": "stdout",
     "output_type": "stream",
     "text": [
      "(13088, 23)\n",
      "(13088, 27)\n",
      "(13088, 28)\n"
     ]
    }
   ],
   "source": [
    "print(dfm2.shape)\n",
    "print(dfm3.shape)\n",
    "print(dfm4.shape)"
   ]
  },
  {
   "cell_type": "code",
   "execution_count": 213,
   "metadata": {},
   "outputs": [
    {
     "data": {
      "text/html": [
       "<div>\n",
       "<style scoped>\n",
       "    .dataframe tbody tr th:only-of-type {\n",
       "        vertical-align: middle;\n",
       "    }\n",
       "\n",
       "    .dataframe tbody tr th {\n",
       "        vertical-align: top;\n",
       "    }\n",
       "\n",
       "    .dataframe thead th {\n",
       "        text-align: right;\n",
       "    }\n",
       "</style>\n",
       "<table border=\"1\" class=\"dataframe\">\n",
       "  <thead>\n",
       "    <tr style=\"text-align: right;\">\n",
       "      <th></th>\n",
       "      <th>appleid</th>\n",
       "      <th>appName</th>\n",
       "      <th>appType</th>\n",
       "      <th>price</th>\n",
       "      <th>latestVersion</th>\n",
       "      <th>developerFirm</th>\n",
       "      <th>developer</th>\n",
       "      <th>tags</th>\n",
       "      <th>releaseDate</th>\n",
       "      <th>lastestDate</th>\n",
       "      <th>bundleId</th>\n",
       "      <th>lastestVer</th>\n",
       "      <th>size</th>\n",
       "      <th>payInApp</th>\n",
       "      <th>support</th>\n",
       "      <th>compatibility</th>\n",
       "      <th>lang</th>\n",
       "      <th>contentRank</th>\n",
       "      <th>artistname</th>\n",
       "      <th>samepubappnum</th>\n",
       "      <th>samepubapplist</th>\n",
       "      <th>samepubapplistid</th>\n",
       "      <th>introcontent</th>\n",
       "      <th>type_code</th>\n",
       "      <th>pkgName</th>\n",
       "      <th>type</th>\n",
       "      <th>qimaiId</th>\n",
       "      <th>rdtimestamp</th>\n",
       "    </tr>\n",
       "  </thead>\n",
       "  <tbody>\n",
       "    <tr>\n",
       "      <th>0</th>\n",
       "      <td>500619796</td>\n",
       "      <td>捕鱼之海底捞</td>\n",
       "      <td>游戏</td>\n",
       "      <td>免费</td>\n",
       "      <td>2017-06-12</td>\n",
       "      <td>Sun Ground Co., Ltd.</td>\n",
       "      <td>Sun Ground Co., Ltd.</td>\n",
       "      <td>游戏、娱乐、动作游戏、街机游戏</td>\n",
       "      <td>2012年03月08日</td>\n",
       "      <td>2017年06月12日</td>\n",
       "      <td>com.sg.iphone.fishx</td>\n",
       "      <td>3.8.1</td>\n",
       "      <td>60.15 MB</td>\n",
       "      <td>是</td>\n",
       "      <td>NaN</td>\n",
       "      <td>需要 iOS 7.0 或更高版本。与 iPhone、iPad 和 iPod touch 兼容。</td>\n",
       "      <td>简体中文, 英语</td>\n",
       "      <td>12+</td>\n",
       "      <td>Sun Ground Co., Ltd.</td>\n",
       "      <td>9</td>\n",
       "      <td>王者捕鱼|魔盗守卫战--蠢萌消除激情塔防最佳组合！|恶魔来了 -- 七龙纪系列|Legend...</td>\n",
       "      <td>1070819686|946824755|514869891|1077664351|5461...</td>\n",
       "      <td>与美人鱼畅游华丽逼真的海底世界!可爱萌宠个个身怀绝技!让你欲罢不能的捕鱼游戏!唯一不带广告的...</td>\n",
       "      <td>NaN</td>\n",
       "      <td>NaN</td>\n",
       "      <td>NaN</td>\n",
       "      <td>NaN</td>\n",
       "      <td>1331136000</td>\n",
       "    </tr>\n",
       "    <tr>\n",
       "      <th>1</th>\n",
       "      <td>1114765349</td>\n",
       "      <td>神魔圣域—跨国天梯争夺百万悬赏</td>\n",
       "      <td>游戏</td>\n",
       "      <td>免费</td>\n",
       "      <td>2019-05-30</td>\n",
       "      <td>Beijing Kunlun Online Tech Co., Ltd.</td>\n",
       "      <td>昆仑在线</td>\n",
       "      <td>游戏、动作游戏、角色扮演游戏</td>\n",
       "      <td>2016年06月27日</td>\n",
       "      <td>2019年05月30日</td>\n",
       "      <td>com.kunlun.smsycn</td>\n",
       "      <td>1.107.01</td>\n",
       "      <td>613.06 MB</td>\n",
       "      <td>是</td>\n",
       "      <td>NaN</td>\n",
       "      <td>需要 iOS 8.0 或更高版本。与 iPhone、iPad 和 iPod touch 兼容。</td>\n",
       "      <td>英文</td>\n",
       "      <td>9+</td>\n",
       "      <td>昆仑在线</td>\n",
       "      <td>4</td>\n",
       "      <td>无双剑姬-无锁定3D真动作手游|师父有妖气|艾尔战记（艾尔之光官方授权手游）|艾尔战记-艾尔...</td>\n",
       "      <td>920689697|1021522658|1059976078|1315519379</td>\n",
       "      <td>最强5人天梯战队赛上线，只要达到120级并凑齐5名小伙伴（最多5名）就可以参加“最强战队”比...</td>\n",
       "      <td>NaN</td>\n",
       "      <td>NaN</td>\n",
       "      <td>NaN</td>\n",
       "      <td>NaN</td>\n",
       "      <td>1466956800</td>\n",
       "    </tr>\n",
       "  </tbody>\n",
       "</table>\n",
       "</div>"
      ],
      "text/plain": [
       "      appleid          appName appType price latestVersion  \\\n",
       "0   500619796           捕鱼之海底捞      游戏    免费    2017-06-12   \n",
       "1  1114765349  神魔圣域—跨国天梯争夺百万悬赏      游戏    免费    2019-05-30   \n",
       "\n",
       "                          developerFirm             developer  \\\n",
       "0                  Sun Ground Co., Ltd.  Sun Ground Co., Ltd.   \n",
       "1  Beijing Kunlun Online Tech Co., Ltd.                  昆仑在线   \n",
       "\n",
       "              tags  releaseDate  lastestDate             bundleId lastestVer  \\\n",
       "0  游戏、娱乐、动作游戏、街机游戏  2012年03月08日  2017年06月12日  com.sg.iphone.fishx      3.8.1   \n",
       "1   游戏、动作游戏、角色扮演游戏  2016年06月27日  2019年05月30日    com.kunlun.smsycn   1.107.01   \n",
       "\n",
       "        size payInApp  support  \\\n",
       "0   60.15 MB        是      NaN   \n",
       "1  613.06 MB        是      NaN   \n",
       "\n",
       "                                     compatibility      lang contentRank  \\\n",
       "0  需要 iOS 7.0 或更高版本。与 iPhone、iPad 和 iPod touch 兼容。  简体中文, 英语         12+   \n",
       "1  需要 iOS 8.0 或更高版本。与 iPhone、iPad 和 iPod touch 兼容。        英文          9+   \n",
       "\n",
       "             artistname  samepubappnum  \\\n",
       "0  Sun Ground Co., Ltd.              9   \n",
       "1                  昆仑在线              4   \n",
       "\n",
       "                                      samepubapplist  \\\n",
       "0  王者捕鱼|魔盗守卫战--蠢萌消除激情塔防最佳组合！|恶魔来了 -- 七龙纪系列|Legend...   \n",
       "1  无双剑姬-无锁定3D真动作手游|师父有妖气|艾尔战记（艾尔之光官方授权手游）|艾尔战记-艾尔...   \n",
       "\n",
       "                                    samepubapplistid  \\\n",
       "0  1070819686|946824755|514869891|1077664351|5461...   \n",
       "1         920689697|1021522658|1059976078|1315519379   \n",
       "\n",
       "                                        introcontent type_code pkgName type  \\\n",
       "0  与美人鱼畅游华丽逼真的海底世界!可爱萌宠个个身怀绝技!让你欲罢不能的捕鱼游戏!唯一不带广告的...       NaN     NaN  NaN   \n",
       "1  最强5人天梯战队赛上线，只要达到120级并凑齐5名小伙伴（最多5名）就可以参加“最强战队”比...       NaN     NaN  NaN   \n",
       "\n",
       "  qimaiId  rdtimestamp  \n",
       "0     NaN   1331136000  \n",
       "1     NaN   1466956800  "
      ]
     },
     "execution_count": 213,
     "metadata": {},
     "output_type": "execute_result"
    }
   ],
   "source": [
    "dfm4.head(2)"
   ]
  },
  {
   "cell_type": "markdown",
   "metadata": {},
   "source": [
    "# 将数据转化到sqlite中"
   ]
  },
  {
   "cell_type": "code",
   "execution_count": 167,
   "metadata": {},
   "outputs": [],
   "source": [
    "conn = sqlite3.connect('aso20190710.db')\n",
    "c = conn.cursor()"
   ]
  },
  {
   "cell_type": "markdown",
   "metadata": {},
   "source": [
    "## 1建立baseinfo表"
   ]
  },
  {
   "cell_type": "code",
   "execution_count": 135,
   "metadata": {},
   "outputs": [
    {
     "data": {
      "text/html": [
       "<div>\n",
       "<style scoped>\n",
       "    .dataframe tbody tr th:only-of-type {\n",
       "        vertical-align: middle;\n",
       "    }\n",
       "\n",
       "    .dataframe tbody tr th {\n",
       "        vertical-align: top;\n",
       "    }\n",
       "\n",
       "    .dataframe thead th {\n",
       "        text-align: right;\n",
       "    }\n",
       "</style>\n",
       "<table border=\"1\" class=\"dataframe\">\n",
       "  <thead>\n",
       "    <tr style=\"text-align: right;\">\n",
       "      <th></th>\n",
       "      <th>appleid</th>\n",
       "      <th>appName</th>\n",
       "      <th>appType</th>\n",
       "      <th>price</th>\n",
       "      <th>latestVersion</th>\n",
       "      <th>developerFirm</th>\n",
       "      <th>developer</th>\n",
       "      <th>tags</th>\n",
       "      <th>releaseDate</th>\n",
       "      <th>lastestDate</th>\n",
       "      <th>bundleId</th>\n",
       "      <th>lastestVer</th>\n",
       "      <th>size</th>\n",
       "      <th>payInApp</th>\n",
       "      <th>support</th>\n",
       "      <th>compatibility</th>\n",
       "      <th>lang</th>\n",
       "      <th>contentRank</th>\n",
       "      <th>artistname</th>\n",
       "      <th>samepubappnum</th>\n",
       "      <th>samepubapplist</th>\n",
       "      <th>samepubapplistid</th>\n",
       "      <th>introcontent</th>\n",
       "    </tr>\n",
       "  </thead>\n",
       "  <tbody>\n",
       "    <tr>\n",
       "      <th>0</th>\n",
       "      <td>500619796</td>\n",
       "      <td>捕鱼之海底捞</td>\n",
       "      <td>游戏</td>\n",
       "      <td>免费</td>\n",
       "      <td>2017-06-12</td>\n",
       "      <td>Sun Ground Co., Ltd.</td>\n",
       "      <td>Sun Ground Co., Ltd.</td>\n",
       "      <td>游戏、娱乐、动作游戏、街机游戏</td>\n",
       "      <td>2012年03月08日</td>\n",
       "      <td>2017年06月12日</td>\n",
       "      <td>com.sg.iphone.fishx</td>\n",
       "      <td>3.8.1</td>\n",
       "      <td>60.15 MB</td>\n",
       "      <td>是</td>\n",
       "      <td>NaN</td>\n",
       "      <td>需要 iOS 7.0 或更高版本。与 iPhone、iPad 和 iPod touch 兼容。</td>\n",
       "      <td>简体中文, 英语</td>\n",
       "      <td>12+</td>\n",
       "      <td>Sun Ground Co., Ltd.</td>\n",
       "      <td>9</td>\n",
       "      <td>王者捕鱼|魔盗守卫战--蠢萌消除激情塔防最佳组合！|恶魔来了 -- 七龙纪系列|Legend...</td>\n",
       "      <td>1070819686|946824755|514869891|1077664351|5461...</td>\n",
       "      <td>与美人鱼畅游华丽逼真的海底世界!可爱萌宠个个身怀绝技!让你欲罢不能的捕鱼游戏!唯一不带广告的...</td>\n",
       "    </tr>\n",
       "  </tbody>\n",
       "</table>\n",
       "</div>"
      ],
      "text/plain": [
       "     appleid appName appType price latestVersion         developerFirm  \\\n",
       "0  500619796  捕鱼之海底捞      游戏    免费    2017-06-12  Sun Ground Co., Ltd.   \n",
       "\n",
       "              developer             tags  releaseDate  lastestDate  \\\n",
       "0  Sun Ground Co., Ltd.  游戏、娱乐、动作游戏、街机游戏  2012年03月08日  2017年06月12日   \n",
       "\n",
       "              bundleId lastestVer      size payInApp  support  \\\n",
       "0  com.sg.iphone.fishx      3.8.1  60.15 MB        是      NaN   \n",
       "\n",
       "                                     compatibility      lang contentRank  \\\n",
       "0  需要 iOS 7.0 或更高版本。与 iPhone、iPad 和 iPod touch 兼容。  简体中文, 英语         12+   \n",
       "\n",
       "             artistname  samepubappnum  \\\n",
       "0  Sun Ground Co., Ltd.              9   \n",
       "\n",
       "                                      samepubapplist  \\\n",
       "0  王者捕鱼|魔盗守卫战--蠢萌消除激情塔防最佳组合！|恶魔来了 -- 七龙纪系列|Legend...   \n",
       "\n",
       "                                    samepubapplistid  \\\n",
       "0  1070819686|946824755|514869891|1077664351|5461...   \n",
       "\n",
       "                                        introcontent  \n",
       "0  与美人鱼畅游华丽逼真的海底世界!可爱萌宠个个身怀绝技!让你欲罢不能的捕鱼游戏!唯一不带广告的...  "
      ]
     },
     "execution_count": 135,
     "metadata": {},
     "output_type": "execute_result"
    }
   ],
   "source": [
    "dfm2.head(1)"
   ]
  },
  {
   "cell_type": "code",
   "execution_count": 138,
   "metadata": {},
   "outputs": [
    {
     "data": {
      "text/plain": [
       "'appleid,appName,appType,price,latestVersion,developerFirm,developer,tags,releaseDate,lastestDate,bundleId,lastestVer,size,payInApp,support,compatibility,lang,contentRank,artistname,samepubappnum,samepubapplist,samepubapplistid,introcontent'"
      ]
     },
     "execution_count": 138,
     "metadata": {},
     "output_type": "execute_result"
    }
   ],
   "source": [
    "','.join(dfm2.columns.tolist())"
   ]
  },
  {
   "cell_type": "code",
   "execution_count": 146,
   "metadata": {},
   "outputs": [
    {
     "data": {
      "text/plain": [
       "23"
      ]
     },
     "execution_count": 146,
     "metadata": {},
     "output_type": "execute_result"
    }
   ],
   "source": [
    "len(dfm2.columns.tolist())"
   ]
  },
  {
   "cell_type": "code",
   "execution_count": 168,
   "metadata": {},
   "outputs": [
    {
     "name": "stdout",
     "output_type": "stream",
     "text": [
      "baseinfo create\n"
     ]
    }
   ],
   "source": [
    "try:\n",
    "    c.execute('''create table baseinfo\n",
    "    (appleid integer primary key,\n",
    "    appName varchar(50),\n",
    "    appType varchar(10),\n",
    "    price varchar(10),\n",
    "    latestVersion varchar(20),\n",
    "    developerFirm varchar(50),\n",
    "    developer varchar(50),\n",
    "    tags varchar(50),\n",
    "    releaseDate varchar(20),\n",
    "    lastestDate varchar(20),\n",
    "    bundleId varchar(50),\n",
    "    lastestVer varchar(20),\n",
    "    size varchar(10),\n",
    "    payInApp varchar(10),\n",
    "    support varchar(20),\n",
    "    compatibility varchar(50),\n",
    "    lang varchar(20),\n",
    "    contentRank varchar(10),\n",
    "    artistname varchar(50),\n",
    "    samepubappnum integer,\n",
    "    samepubapplist text,\n",
    "    samepubapplistid text,\n",
    "    introcontent text)''')\n",
    "    conn.commit()\n",
    "    print('baseinfo create')\n",
    "except:\n",
    "    print('baseinfo exits')"
   ]
  },
  {
   "cell_type": "markdown",
   "metadata": {},
   "source": [
    "## 2建立version表"
   ]
  },
  {
   "cell_type": "code",
   "execution_count": 141,
   "metadata": {},
   "outputs": [
    {
     "data": {
      "text/html": [
       "<div>\n",
       "<style scoped>\n",
       "    .dataframe tbody tr th:only-of-type {\n",
       "        vertical-align: middle;\n",
       "    }\n",
       "\n",
       "    .dataframe tbody tr th {\n",
       "        vertical-align: top;\n",
       "    }\n",
       "\n",
       "    .dataframe thead th {\n",
       "        text-align: right;\n",
       "    }\n",
       "</style>\n",
       "<table border=\"1\" class=\"dataframe\">\n",
       "  <thead>\n",
       "    <tr style=\"text-align: right;\">\n",
       "      <th></th>\n",
       "      <th>appleid</th>\n",
       "      <th>verDate</th>\n",
       "      <th>timestamp</th>\n",
       "      <th>versionTitle</th>\n",
       "      <th>versionTitle2</th>\n",
       "      <th>filename</th>\n",
       "      <th>vercontent</th>\n",
       "    </tr>\n",
       "  </thead>\n",
       "  <tbody>\n",
       "    <tr>\n",
       "      <th>0</th>\n",
       "      <td>500619796</td>\n",
       "      <td>2017年06月12日</td>\n",
       "      <td>1.497197e+09</td>\n",
       "      <td>3.8.1</td>\n",
       "      <td>v3.8.1</td>\n",
       "      <td>500619796v3_8_1.txt</td>\n",
       "      <td>1.bug修正2.游戏体验优化</td>\n",
       "    </tr>\n",
       "  </tbody>\n",
       "</table>\n",
       "</div>"
      ],
      "text/plain": [
       "     appleid      verDate     timestamp versionTitle versionTitle2  \\\n",
       "0  500619796  2017年06月12日  1.497197e+09        3.8.1        v3.8.1   \n",
       "\n",
       "              filename       vercontent  \n",
       "0  500619796v3_8_1.txt  1.bug修正2.游戏体验优化  "
      ]
     },
     "execution_count": 141,
     "metadata": {},
     "output_type": "execute_result"
    }
   ],
   "source": [
    "dfvm2.head(1)"
   ]
  },
  {
   "cell_type": "code",
   "execution_count": 142,
   "metadata": {},
   "outputs": [
    {
     "data": {
      "text/plain": [
       "'appleid,verDate,timestamp,versionTitle,versionTitle2,filename,vercontent'"
      ]
     },
     "execution_count": 142,
     "metadata": {},
     "output_type": "execute_result"
    }
   ],
   "source": [
    "','.join(dfvm2.columns.tolist())"
   ]
  },
  {
   "cell_type": "code",
   "execution_count": 169,
   "metadata": {},
   "outputs": [
    {
     "name": "stdout",
     "output_type": "stream",
     "text": [
      "version create\n"
     ]
    }
   ],
   "source": [
    "try:\n",
    "    c.execute('''create table version\n",
    "    (appleid integer,\n",
    "    verDate varchar(20),\n",
    "    timestamp integer,\n",
    "    versionTitle varchar(20),\n",
    "    versionTitle2 varchar(20),\n",
    "    filename varchar(30) primary key,\n",
    "    vercontent text)''')\n",
    "    conn.commit()\n",
    "    print('version create')\n",
    "except:\n",
    "    print('version exists')"
   ]
  },
  {
   "cell_type": "markdown",
   "metadata": {},
   "source": [
    "## 3建立baseinfo_td表"
   ]
  },
  {
   "cell_type": "code",
   "execution_count": 221,
   "metadata": {},
   "outputs": [
    {
     "name": "stdout",
     "output_type": "stream",
     "text": [
      "baseinfo_td create\n"
     ]
    }
   ],
   "source": [
    "try:\n",
    "    c.execute('''create table baseinfo_td\n",
    "    (appleid integer primary key,\n",
    "    appName varchar(50),\n",
    "    appType varchar(10),\n",
    "    price varchar(10),\n",
    "    latestVersion varchar(20),\n",
    "    developerFirm varchar(50),\n",
    "    developer varchar(50),\n",
    "    tags varchar(50),\n",
    "    releaseDate varchar(20),\n",
    "    lastestDate varchar(20),\n",
    "    bundleId varchar(50),\n",
    "    lastestVer varchar(20),\n",
    "    size varchar(10),\n",
    "    payInApp varchar(10),\n",
    "    support varchar(20),\n",
    "    compatibility varchar(50),\n",
    "    lang varchar(20),\n",
    "    contentRank varchar(10),\n",
    "    artistname varchar(50),\n",
    "    samepubappnum integer,\n",
    "    samepubapplist text,\n",
    "    samepubapplistid text,\n",
    "    introcontent text,\n",
    "    type_code_TD varchar(20),\n",
    "    pkgName varchar(50),\n",
    "    type_TD varchar(20),\n",
    "    qimaiId integer,\n",
    "    rdtimestamp integer)''')\n",
    "    conn.commit()\n",
    "    print('baseinfo_td create')\n",
    "except:\n",
    "    print('baseinfo_td exits')"
   ]
  },
  {
   "cell_type": "markdown",
   "metadata": {},
   "source": [
    "# 将数据存入sqlite"
   ]
  },
  {
   "cell_type": "code",
   "execution_count": 173,
   "metadata": {},
   "outputs": [
    {
     "name": "stdout",
     "output_type": "stream",
     "text": [
      "error: 500619796v3_8_1.txt\n"
     ]
    }
   ],
   "source": [
    "for r in dfvm2.itertuples(index = False):\n",
    "    temp = tuple([i for i in r])\n",
    "    try:\n",
    "        c.execute('insert into version values (?,?,?,?,?,?,?)',temp)\n",
    "        conn.commit()\n",
    "    except:\n",
    "        print('error: {}'.format(getattr(r,'filename')))"
   ]
  },
  {
   "cell_type": "code",
   "execution_count": 174,
   "metadata": {},
   "outputs": [
    {
     "name": "stdout",
     "output_type": "stream",
     "text": [
      "error: 500619796\n"
     ]
    }
   ],
   "source": [
    "for r in dfm2.itertuples(index = False):\n",
    "    temp = tuple([i for i in r])\n",
    "    try:\n",
    "        c.execute('insert into baseinfo values (?,?,?,?,?,?,?,?,?,?,?,?,?,?,?,?,?,?,?,?,?,?,?)',temp)\n",
    "        conn.commit()\n",
    "    except:\n",
    "        print('error: {}'.format(getattr(r,'appleid')))"
   ]
  },
  {
   "cell_type": "code",
   "execution_count": 224,
   "metadata": {},
   "outputs": [],
   "source": [
    "for r in dfm4.itertuples(index = False):\n",
    "    temp = tuple([i for i in r])\n",
    "    try:\n",
    "        c.execute('insert into baseinfo_td values (?,?,?,?,?,?,?,?,?,?,?,?,?,?,?,?,?,?,?,?,?,?,?,?,?,?,?,?)',temp)\n",
    "        conn.commit()\n",
    "    except:\n",
    "        print('error: {}'.format(getattr(r,'appleid')))"
   ]
  },
  {
   "cell_type": "code",
   "execution_count": 225,
   "metadata": {},
   "outputs": [
    {
     "data": {
      "text/plain": [
       "28"
      ]
     },
     "execution_count": 225,
     "metadata": {},
     "output_type": "execute_result"
    }
   ],
   "source": [
    "jijijiji = '?,?,?,?,?,?,?,?,?,?,?,?,?,?,?,?,?,?,?,?,?,?,?,?,?,?,?,?'\n",
    "lilililiil = jijijiji.split(',')\n",
    "len(lilililiil)"
   ]
  },
  {
   "cell_type": "code",
   "execution_count": 227,
   "metadata": {},
   "outputs": [],
   "source": [
    "a = c.execute('select count(*) from baseinfo_td')"
   ]
  },
  {
   "cell_type": "code",
   "execution_count": 228,
   "metadata": {},
   "outputs": [
    {
     "name": "stdout",
     "output_type": "stream",
     "text": [
      "<sqlite3.Cursor object at 0x7fc63f9bac00>\n"
     ]
    }
   ],
   "source": [
    "print(a)"
   ]
  },
  {
   "cell_type": "code",
   "execution_count": null,
   "metadata": {},
   "outputs": [],
   "source": []
  }
 ],
 "metadata": {
  "kernelspec": {
   "display_name": "Python 3",
   "language": "python",
   "name": "python3"
  },
  "language_info": {
   "codemirror_mode": {
    "name": "ipython",
    "version": 3
   },
   "file_extension": ".py",
   "mimetype": "text/x-python",
   "name": "python",
   "nbconvert_exporter": "python",
   "pygments_lexer": "ipython3",
   "version": "3.5.2"
  }
 },
 "nbformat": 4,
 "nbformat_minor": 2
}
